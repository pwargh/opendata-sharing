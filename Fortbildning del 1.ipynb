{
 "cells": [
  {
   "cell_type": "markdown",
   "id": "490d8456",
   "metadata": {},
   "source": [
    "# RUBRIK"
   ]
  },
  {
   "cell_type": "markdown",
   "id": "6c030c40",
   "metadata": {},
   "source": [
    "Här kommer lite rubriker\n",
    "## Nivå två\n",
    "### Nivå tre\n",
    "#### Nivå fyra\n",
    "*kursiv* **fet**"
   ]
  },
  {
   "cell_type": "markdown",
   "id": "ca13034c",
   "metadata": {},
   "source": [
    "[Sök här](http://google.com)"
   ]
  },
  {
   "cell_type": "code",
   "execution_count": 2,
   "id": "9517b78d",
   "metadata": {
    "scrolled": true
   },
   "outputs": [
    {
     "name": "stdout",
     "output_type": "stream",
     "text": [
      "HEJHEJ\n"
     ]
    }
   ],
   "source": [
    "print(\"HEJHEJ\")"
   ]
  },
  {
   "cell_type": "code",
   "execution_count": 9,
   "id": "7c18e692",
   "metadata": {},
   "outputs": [
    {
     "name": "stdout",
     "output_type": "stream",
     "text": [
      "11.333333333333334\n"
     ]
    }
   ],
   "source": [
    "# Kommentarer här\n",
    "# Variabler\n",
    "a = 3\n",
    "minvar=34\n",
    "print(minvar/a)\n",
    "# + - / * \n",
    "# **(upphöjt)"
   ]
  },
  {
   "cell_type": "code",
   "execution_count": 14,
   "id": "aaee6bb7",
   "metadata": {},
   "outputs": [],
   "source": [
    "import numpy as np"
   ]
  },
  {
   "cell_type": "code",
   "execution_count": 16,
   "id": "d91002bd",
   "metadata": {},
   "outputs": [
    {
     "data": {
      "text/plain": [
       "1.2246467991473532e-16"
      ]
     },
     "execution_count": 16,
     "metadata": {},
     "output_type": "execute_result"
    }
   ],
   "source": [
    "np.sin(np.pi)"
   ]
  },
  {
   "cell_type": "code",
   "execution_count": 17,
   "id": "4418293f",
   "metadata": {},
   "outputs": [
    {
     "name": "stdout",
     "output_type": "stream",
     "text": [
      "[3, 6, 9, 12]\n"
     ]
    }
   ],
   "source": [
    "lista =[3,6,9,12]\n",
    "print(lista)"
   ]
  },
  {
   "cell_type": "code",
   "execution_count": 22,
   "id": "6b478f7b",
   "metadata": {},
   "outputs": [
    {
     "data": {
      "text/plain": [
       "4"
      ]
     },
     "execution_count": 22,
     "metadata": {},
     "output_type": "execute_result"
    }
   ],
   "source": [
    "len(lista)"
   ]
  },
  {
   "cell_type": "code",
   "execution_count": 23,
   "id": "87c99ebb",
   "metadata": {},
   "outputs": [
    {
     "data": {
      "text/plain": [
       "7.5"
      ]
     },
     "execution_count": 23,
     "metadata": {},
     "output_type": "execute_result"
    }
   ],
   "source": [
    "np.mean(lista)"
   ]
  },
  {
   "cell_type": "markdown",
   "id": "6e0191bf",
   "metadata": {},
   "source": [
    "[webbsida](https://indico.cern.ch/event/1093016/)"
   ]
  },
  {
   "cell_type": "code",
   "execution_count": null,
   "id": "f6f01e81",
   "metadata": {},
   "outputs": [],
   "source": []
  },
  {
   "cell_type": "markdown",
   "id": "c07c8d7b",
   "metadata": {},
   "source": [
    "#### Bilde\n",
    "![bild](https://upload.wikimedia.org/wikipedia/commons/e/e3/Logo_BILD.svg)"
   ]
  },
  {
   "cell_type": "markdown",
   "id": "214e2d6c",
   "metadata": {},
   "source": [
    "![](graf5.png)"
   ]
  },
  {
   "cell_type": "markdown",
   "id": "e004701c",
   "metadata": {},
   "source": [
    "$Latex$ inline\n",
    "$$\\int_0^{2\\pi}\\sin\\left(x\\right)\\ dx$$ centrerat typ\n"
   ]
  },
  {
   "cell_type": "markdown",
   "id": "dd72f9c5",
   "metadata": {},
   "source": [
    "Man kan lägga in en kommentar hur man skall använda kommandon med ``![](länk)``"
   ]
  },
  {
   "cell_type": "markdown",
   "id": "4ad684e5",
   "metadata": {},
   "source": [
    "Man kan skriva python kod\n",
    "\n",
    "````python\n",
    "import numpy as np\n",
    "````"
   ]
  },
  {
   "cell_type": "code",
   "execution_count": 28,
   "id": "a8f611e2",
   "metadata": {},
   "outputs": [],
   "source": [
    "import pandas as pd"
   ]
  },
  {
   "cell_type": "code",
   "execution_count": 37,
   "id": "7c0d7484",
   "metadata": {},
   "outputs": [
    {
     "data": {
      "text/html": [
       "<div>\n",
       "<style scoped>\n",
       "    .dataframe tbody tr th:only-of-type {\n",
       "        vertical-align: middle;\n",
       "    }\n",
       "\n",
       "    .dataframe tbody tr th {\n",
       "        vertical-align: top;\n",
       "    }\n",
       "\n",
       "    .dataframe thead th {\n",
       "        text-align: right;\n",
       "    }\n",
       "</style>\n",
       "<table border=\"1\" class=\"dataframe\">\n",
       "  <thead>\n",
       "    <tr style=\"text-align: right;\">\n",
       "      <th></th>\n",
       "      <th>Vuosi</th>\n",
       "      <th>Kk</th>\n",
       "      <th>Pv</th>\n",
       "      <th>Klo</th>\n",
       "      <th>Aikavyöhyke</th>\n",
       "      <th>Kuukauden sadesumma (mm)</th>\n",
       "      <th>Kuukauden keskilämpötila (degC)</th>\n",
       "    </tr>\n",
       "  </thead>\n",
       "  <tbody>\n",
       "    <tr>\n",
       "      <th>0</th>\n",
       "      <td>2021</td>\n",
       "      <td>1</td>\n",
       "      <td>1</td>\n",
       "      <td>00:00</td>\n",
       "      <td>UTC</td>\n",
       "      <td>NaN</td>\n",
       "      <td>-6.7</td>\n",
       "    </tr>\n",
       "    <tr>\n",
       "      <th>1</th>\n",
       "      <td>2021</td>\n",
       "      <td>2</td>\n",
       "      <td>1</td>\n",
       "      <td>00:00</td>\n",
       "      <td>UTC</td>\n",
       "      <td>NaN</td>\n",
       "      <td>-9.4</td>\n",
       "    </tr>\n",
       "    <tr>\n",
       "      <th>2</th>\n",
       "      <td>2021</td>\n",
       "      <td>3</td>\n",
       "      <td>1</td>\n",
       "      <td>00:00</td>\n",
       "      <td>UTC</td>\n",
       "      <td>NaN</td>\n",
       "      <td>-1.8</td>\n",
       "    </tr>\n",
       "    <tr>\n",
       "      <th>3</th>\n",
       "      <td>2021</td>\n",
       "      <td>4</td>\n",
       "      <td>1</td>\n",
       "      <td>00:00</td>\n",
       "      <td>UTC</td>\n",
       "      <td>NaN</td>\n",
       "      <td>2.5</td>\n",
       "    </tr>\n",
       "    <tr>\n",
       "      <th>4</th>\n",
       "      <td>2021</td>\n",
       "      <td>5</td>\n",
       "      <td>1</td>\n",
       "      <td>00:00</td>\n",
       "      <td>UTC</td>\n",
       "      <td>NaN</td>\n",
       "      <td>7.4</td>\n",
       "    </tr>\n",
       "  </tbody>\n",
       "</table>\n",
       "</div>"
      ],
      "text/plain": [
       "   Vuosi  Kk  Pv    Klo Aikavyöhyke  Kuukauden sadesumma (mm)  \\\n",
       "0   2021   1   1  00:00         UTC                       NaN   \n",
       "1   2021   2   1  00:00         UTC                       NaN   \n",
       "2   2021   3   1  00:00         UTC                       NaN   \n",
       "3   2021   4   1  00:00         UTC                       NaN   \n",
       "4   2021   5   1  00:00         UTC                       NaN   \n",
       "\n",
       "   Kuukauden keskilämpötila (degC)  \n",
       "0                             -6.7  \n",
       "1                             -9.4  \n",
       "2                             -1.8  \n",
       "3                              2.5  \n",
       "4                              7.4  "
      ]
     },
     "execution_count": 37,
     "metadata": {},
     "output_type": "execute_result"
    }
   ],
   "source": [
    "krombi2021 = pd.read_csv(\"Kronoby2021.csv\")\n",
    "\n",
    "krombi2021.head()"
   ]
  },
  {
   "cell_type": "code",
   "execution_count": 39,
   "id": "52afe4ef",
   "metadata": {},
   "outputs": [],
   "source": [
    "# grafer modul\n",
    "import matplotlib.pyplot as plt"
   ]
  },
  {
   "cell_type": "code",
   "execution_count": 40,
   "id": "c1183df8",
   "metadata": {},
   "outputs": [
    {
     "data": {
      "text/plain": [
       "[<matplotlib.lines.Line2D at 0x1efefb29160>]"
      ]
     },
     "execution_count": 40,
     "metadata": {},
     "output_type": "execute_result"
    },
    {
     "data": {
      "image/png": "[encoded data removed]",
      "text/plain": [
       "<Figure size 432x288 with 1 Axes>"
      ]
     },
     "metadata": {
      "needs_background": "light"
     },
     "output_type": "display_data"
    }
   ],
   "source": [
    "# grafer\n",
    "plt.plot(krombi2021[\"Kk\"],krombi2021[\"Kuukauden keskilämpötila (degC)\"])"
   ]
  }
 ],
 "metadata": {
  "kernelspec": {
   "display_name": "Python 3",
   "language": "python",
   "name": "python3"
  },
  "language_info": {
   "codemirror_mode": {
    "name": "ipython",
    "version": 3
   },
   "file_extension": ".py",
   "mimetype": "text/x-python",
   "name": "python",
   "nbconvert_exporter": "python",
   "pygments_lexer": "ipython3",
   "version": "3.8.8"
  }
 },
 "nbformat": 4,
 "nbformat_minor": 5
}
